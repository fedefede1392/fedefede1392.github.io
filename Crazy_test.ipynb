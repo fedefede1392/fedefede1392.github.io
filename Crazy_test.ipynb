{
 "cells": [
  {
   "cell_type": "code",
   "execution_count": 1,
   "id": "c9eaae40",
   "metadata": {},
   "outputs": [
    {
     "data": {
      "application/vnd.jupyter.widget-view+json": {
       "model_id": "4643238e43c34b56b7cbc88f8ca02c60",
       "version_major": 2,
       "version_minor": 0
      },
      "text/plain": [
       "interactive(children=(FloatSlider(value=1.0, description='a1', max=2.0, min=0.1), IntSlider(value=5, descripti…"
      ]
     },
     "metadata": {},
     "output_type": "display_data"
    },
    {
     "data": {
      "text/plain": [
       "<function __main__.convoyer(a1, f1, a2, f2, a3, f3, a4, f4)>"
      ]
     },
     "execution_count": 1,
     "metadata": {},
     "output_type": "execute_result"
    }
   ],
   "source": [
    "import numpy as np\n",
    "import matplotlib.pyplot as plt\n",
    "\n",
    "from ipywidgets import interact, interactive, fixed, interact_manual\n",
    "\n",
    "def convoyer(a1, f1, a2, f2, a3, f3, a4, f4):\n",
    "    x = np.linspace(0, 2*np.pi, 500)\n",
    "    \n",
    "    y1 = a1 * np.sin(x * f1 + np.pi*0/180)\n",
    "    y2 = a2 * np.sin(x * f2 + np.pi*90/180)\n",
    "    y3 = a3 * np.sin(x * f3 + np.pi*180/180)\n",
    "    y4 = a4 * np.sin(x * f4 + np.pi*270/180)\n",
    "    \n",
    "    y = y1 + y2 + y3 + y4\n",
    "    \n",
    "    plt.plot(x, y, color = 'purple')\n",
    "    plt.grid()\n",
    "    \n",
    "interact(convoyer, \n",
    "         a1 = (0.1, 2, 0.1), \n",
    "         f1 = (1, 10, 1), \n",
    "         a2 = (0.1, 2, 0.1), \n",
    "         f2 = (1, 10, 1),\n",
    "         a3 = (0.1, 2, 0.1), \n",
    "         f3 = (1, 10, 1), \n",
    "         a4 = (0.1, 2, 0.1), \n",
    "         f4 = (1, 10, 1),)"
   ]
  },
  {
   "cell_type": "code",
   "execution_count": null,
   "id": "af5cea94",
   "metadata": {},
   "outputs": [],
   "source": []
  }
 ],
 "metadata": {
  "kernelspec": {
   "display_name": "Python 3 (ipykernel)",
   "language": "python",
   "name": "python3"
  },
  "language_info": {
   "codemirror_mode": {
    "name": "ipython",
    "version": 3
   },
   "file_extension": ".py",
   "mimetype": "text/x-python",
   "name": "python",
   "nbconvert_exporter": "python",
   "pygments_lexer": "ipython3",
   "version": "3.8.18"
  }
 },
 "nbformat": 4,
 "nbformat_minor": 5
}
